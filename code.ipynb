{
 "cells": [
  {
   "cell_type": "code",
   "execution_count": 12,
   "metadata": {},
   "outputs": [],
   "source": [
    "import requests\n",
    "from bs4 import BeautifulSoup\n",
    "\n",
    "page = requests.get('https://en.wikipedia.org/wiki/List_of_the_most_common_surnames_in_Germany')"
   ]
  },
  {
   "cell_type": "code",
   "execution_count": 13,
   "metadata": {},
   "outputs": [],
   "source": [
    "soup = BeautifulSoup(page.text, 'html.parser')"
   ]
  },
  {
   "cell_type": "code",
   "execution_count": 14,
   "metadata": {},
   "outputs": [
    {
     "data": {
      "text/plain": [
       "\"'1.3', '1.4', '2', '3', '4', 'Müller', 'Schmidt', 'Schneider', 'Fischer', 'Weber', 'Meyer', 'Wagner', 'Becker', 'Schulz', 'Hoffmann', 'Schäfer', 'Koch', 'Bauer', 'Richter', 'Klein', 'Wolf', 'Schröder', 'Neumann', 'Schwarz', 'Zimmermann', 'Braun', 'Krüger', 'Hofmann', 'Hartmann', 'Lange', 'Schmitt', 'Werner', 'Schmitz', 'Krause', 'Meier', 'Lehmann', 'Schmid', 'Schulze', 'Maier', 'Köhler', 'Herrmann', 'König', 'Walter', 'Mayer', 'Huber', 'Kaiser', 'Fuchs', 'Peters', 'Lang', 'Scholz', 'Möller', 'Weiß', 'Jung', 'Hahn', 'Schubert', 'Vogel', 'Friedrich', 'Keller', 'Günther', 'Frank', 'Berger', 'Winkler', 'Roth', 'Beck', 'Lorenz', 'Baumann', 'Franke', 'Albrecht', 'Schuster', 'Simon', 'Ludwig', 'Böhm', 'Winter', 'Kraus', 'Martin', 'Schumacher', 'Krämer', 'Vogt', 'Stein', 'Jäger', 'Otto', 'Sommer', 'Groß', 'Seidel', 'Heinrich', 'Brandt', 'Haas', 'Schreiber', 'Graf', 'Schulte', 'Dietrich', 'Ziegler', 'Kuhn', 'Kühn', 'Pohl', 'Engel', 'Horn', 'Busch', 'Bergmann', 'Thomas', 'Voigt', 'Sauer', 'Arnold', 'Wolff', 'Pfeiffer', 'Nowak', 'Noack', 'Pietsch', 'Yılmaz', 'Kaya', 'Nguyen', 'German', 'ISBN', 'ISBN', 'ISBN', 'ISBN', 'ISBN', 'ISBN', '^', '^', '^', 'Lists', 'Lists', 'CS1', 'Articles', 'Short', 'Use', 'Talk', 'Contributions', 'Create', 'Log', 'Article', 'Talk', 'Read', 'Edit', 'View', 'Main', 'Contents', 'Current', 'Random', 'About', 'Contact', 'Donate', 'Help', 'Learn', 'Community', 'Recent', 'Upload', 'What', 'Related', 'Upload', 'Special', 'Permanent', 'Page', 'Cite', 'Wikidata', 'Download', 'Printable', 'Deutsch', 'Español', 'فارسی', '中文', 'Creative', 'Privacy', 'About', 'Disclaimers', 'Contact', 'Mobile', 'Developers', 'Statistics', 'Cookie', '', ''\""
      ]
     },
     "execution_count": 14,
     "metadata": {},
     "output_type": "execute_result"
    }
   ],
   "source": [
    "', '.join([f\"'{x.find('a').getText().split(' ')[0]}'\" for x in soup.find_all('li') if x.find('a') is not None][3:])"
   ]
  },
  {
   "cell_type": "code",
   "execution_count": 5,
   "metadata": {},
   "outputs": [],
   "source": [
    "import pandas as pd\n",
    "\n",
    "# pd.read_html(soup.find('table', {\"class\": \"wikitable sortable\"}))\n",
    "df = pd.read_html('https://en.wikipedia.org/wiki/List_of_cities_in_Germany_by_population')"
   ]
  },
  {
   "cell_type": "code",
   "execution_count": 10,
   "metadata": {},
   "outputs": [
    {
     "data": {
      "text/plain": [
       "array(['Berlin', 'Hamburg', 'Munich (München)', 'Cologne (Köln)',\n",
       "       'Frankfurt am Main', 'Stuttgart', 'Düsseldorf', 'Dortmund',\n",
       "       'Essen', 'Leipzig', 'Bremen', 'Dresden', 'Hanover (Hannover)',\n",
       "       'Nuremberg (Nürnberg)', 'Duisburg', 'Bochum', 'Wuppertal',\n",
       "       'Bielefeld', 'Bonn', 'Münster', 'Karlsruhe', 'Mannheim',\n",
       "       'Augsburg', 'Wiesbaden', 'Gelsenkirchen', 'Mönchengladbach',\n",
       "       'Braunschweig', 'Chemnitz', 'Kiel', 'Aachen', 'Halle (Saale)',\n",
       "       'Magdeburg', 'Freiburg im Breisgau', 'Krefeld', 'Lübeck',\n",
       "       'Oberhausen', 'Erfurt', 'Mainz', 'Rostock', 'Kassel', 'Hagen',\n",
       "       'Hamm', 'Saarbrücken', 'Mülheim an der Ruhr', 'Potsdam',\n",
       "       'Ludwigshafen am Rhein', 'Oldenburg', 'Leverkusen', 'Osnabrück',\n",
       "       'Solingen', 'Heidelberg', 'Herne', 'Neuss', 'Darmstadt',\n",
       "       'Paderborn', 'Regensburg', 'Ingolstadt', 'Würzburg', 'Fürth',\n",
       "       'Wolfsburg', 'Offenbach am Main', 'Ulm', 'Heilbronn', 'Pforzheim',\n",
       "       'Göttingen', 'Bottrop', 'Trier', 'Recklinghausen', 'Reutlingen',\n",
       "       'Bremerhaven', 'Koblenz', 'Bergisch Gladbach', 'Jena', 'Remscheid',\n",
       "       'Erlangen', 'Moers', 'Siegen', 'Hildesheim', 'Salzgitter'],\n",
       "      dtype=object)"
      ]
     },
     "execution_count": 10,
     "metadata": {},
     "output_type": "execute_result"
    }
   ],
   "source": [
    "df[1]['City'].values"
   ]
  },
  {
   "cell_type": "code",
   "execution_count": null,
   "metadata": {},
   "outputs": [],
   "source": []
  }
 ],
 "metadata": {
  "kernelspec": {
   "display_name": "Python 3.10.0 ('py310')",
   "language": "python",
   "name": "python3"
  },
  "language_info": {
   "codemirror_mode": {
    "name": "ipython",
    "version": 3
   },
   "file_extension": ".py",
   "mimetype": "text/x-python",
   "name": "python",
   "nbconvert_exporter": "python",
   "pygments_lexer": "ipython3",
   "version": "3.10.0"
  },
  "orig_nbformat": 4,
  "vscode": {
   "interpreter": {
    "hash": "6185398f5f8baf301c9beb2570e744bd00fa6ac774560095955055b6da5c85ac"
   }
  }
 },
 "nbformat": 4,
 "nbformat_minor": 2
}
